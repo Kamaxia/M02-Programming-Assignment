{
 "cells": [
  {
   "cell_type": "code",
   "execution_count": 1,
   "id": "3e9546d0-264b-4f20-a720-79037ef5c79d",
   "metadata": {},
   "outputs": [],
   "source": [
    "things = [\"mozzarella\", \"cinderella\", \"salmonella\"]"
   ]
  },
  {
   "cell_type": "code",
   "execution_count": 15,
   "id": "d1ff1b14-6954-4f8b-a103-a4f20fa72958",
   "metadata": {},
   "outputs": [
    {
     "name": "stdout",
     "output_type": "stream",
     "text": [
      "['mozzarella', 'Cinderella', 'salmonella']\n"
     ]
    }
   ],
   "source": [
    "things = [\"mozzarella\", \"Cinderella\", \"salmonella\"]\n",
    "print(things)"
   ]
  },
  {
   "cell_type": "code",
   "execution_count": 17,
   "id": "249d33c2-05ad-4845-9454-b4d55b9e8658",
   "metadata": {},
   "outputs": [
    {
     "name": "stdout",
     "output_type": "stream",
     "text": [
      "['MOZZARELLA', 'Cinderella', 'salmonella']\n"
     ]
    }
   ],
   "source": [
    "things = [\"MOZZARELLA\", \"Cinderella\", \"salmonella\"]\n",
    "print(things)"
   ]
  },
  {
   "cell_type": "code",
   "execution_count": 19,
   "id": "6d7abe85-fa5b-4e1f-b578-a84fedd20870",
   "metadata": {},
   "outputs": [
    {
     "name": "stdout",
     "output_type": "stream",
     "text": [
      "['mozzarella', 'Cinderella']\n"
     ]
    }
   ],
   "source": [
    "things = [\"MOZZARELLA\", \"Cinderella\"]\n",
    "print(things)"
   ]
  },
  {
   "cell_type": "code",
   "execution_count": 23,
   "id": "21ddb2de-6300-4658-bac2-818925288275",
   "metadata": {},
   "outputs": [
    {
     "data": {
      "text/plain": [
       "['Harry', 'Ron', 'Hermione']"
      ]
     },
     "execution_count": 23,
     "metadata": {},
     "output_type": "execute_result"
    }
   ],
   "source": [
    "def good():\n",
    "    characters = [\"Harry\", \"Ron\", \"Hermione\"]\n",
    "    return(characters)\n",
    "good()"
   ]
  },
  {
   "cell_type": "code",
   "execution_count": 29,
   "id": "889899a9-8028-4fe0-8bd8-cfd81e35a8ef",
   "metadata": {},
   "outputs": [
    {
     "data": {
      "text/plain": [
       "[1, 3, 5, 7, 9]"
      ]
     },
     "execution_count": 29,
     "metadata": {},
     "output_type": "execute_result"
    }
   ],
   "source": [
    "def get_odds():\n",
    "    list = []\n",
    "    for i in range(10):\n",
    "        if i % 2 >= 1:\n",
    "            list.append(i)\n",
    "    return(list)\n",
    "get_odds()"
   ]
  },
  {
   "cell_type": "code",
   "execution_count": null,
   "id": "ad1cf58a-b6c2-4b8d-aa5e-9e543cd2ff91",
   "metadata": {},
   "outputs": [],
   "source": []
  }
 ],
 "metadata": {
  "kernelspec": {
   "display_name": "Python 3 (ipykernel)",
   "language": "python",
   "name": "python3"
  },
  "language_info": {
   "codemirror_mode": {
    "name": "ipython",
    "version": 3
   },
   "file_extension": ".py",
   "mimetype": "text/x-python",
   "name": "python",
   "nbconvert_exporter": "python",
   "pygments_lexer": "ipython3",
   "version": "3.12.4"
  }
 },
 "nbformat": 4,
 "nbformat_minor": 5
}
